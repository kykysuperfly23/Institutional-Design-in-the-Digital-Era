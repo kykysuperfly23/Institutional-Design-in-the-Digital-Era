{
  "nbformat": 4,
  "nbformat_minor": 0,
  "metadata": {
    "colab": {
      "provenance": []
    },
    "kernelspec": {
      "name": "python3",
      "display_name": "Python 3"
    },
    "language_info": {
      "name": "python"
    }
  },
  "cells": [
    {
      "cell_type": "code",
      "execution_count": null,
      "metadata": {
        "colab": {
          "base_uri": "https://localhost:8080/"
        },
        "id": "xoFrMrQI8Efk",
        "outputId": "07ecdcf8-5ee4-470e-bbba-ba2100558ff2"
      },
      "outputs": [
        {
          "output_type": "stream",
          "name": "stdout",
          "text": [
            "/bin/bash: line 1: pip: command not found\n",
            "/bin/bash: line 1: pip: command not found\n",
            "/bin/bash: line 1: pip: command not found\n",
            "/bin/bash: line 1: pip: command not found\n"
          ]
        }
      ],
      "source": [
        "# install the tools you will use later\n",
        "!pip install --upgrade setuptools\n",
        "!pip install --upgrade pip\n",
        "!pip install nashpy\n",
        "!pip install quantecon"
      ]
    },
    {
      "cell_type": "code",
      "source": [
        "import numpy as np\n",
        "import nashpy as nash\n",
        "\n",
        "def divide_dollar_game(T=6, step=1, d1=0, d2=0): #T=total pool\n",
        "    \"\"\"\n",
        "    A divide-the-dollar (Nash demand) game on grid {0, step, ..., T}.\n",
        "    If i+j <= T -> payoffs (i, j); else -> (d1, d2) (disagreement payoffs).\n",
        "    Returns: demands_grid, game\n",
        "    \"\"\"\n",
        "    demands = np.arange(0, T+1, step)\n",
        "    I, J = np.meshgrid(demands, demands, indexing=\"ij\")\n",
        "    feasible = (I + J) <= T\n",
        "    A = np.where(feasible, I, d1)  # Row player's payoff\n",
        "    B = np.where(feasible, J, d2)  # Column player's payoff\n",
        "    return demands, nash.Game(A, B)"
      ],
      "metadata": {
        "id": "e58P2Lby9U4v",
        "colab": {
          "base_uri": "https://localhost:8080/",
          "height": 383
        },
        "outputId": "29be11b1-fa78-4267-feae-d6993e7532f6"
      },
      "execution_count": null,
      "outputs": [
        {
          "output_type": "error",
          "ename": "ModuleNotFoundError",
          "evalue": "No module named 'nashpy'",
          "traceback": [
            "\u001b[0;31m---------------------------------------------------------------------------\u001b[0m",
            "\u001b[0;31mModuleNotFoundError\u001b[0m                       Traceback (most recent call last)",
            "\u001b[0;32m/tmp/ipython-input-1047380603.py\u001b[0m in \u001b[0;36m<cell line: 0>\u001b[0;34m()\u001b[0m\n\u001b[1;32m      1\u001b[0m \u001b[0;32mimport\u001b[0m \u001b[0mnumpy\u001b[0m \u001b[0;32mas\u001b[0m \u001b[0mnp\u001b[0m\u001b[0;34m\u001b[0m\u001b[0;34m\u001b[0m\u001b[0m\n\u001b[0;32m----> 2\u001b[0;31m \u001b[0;32mimport\u001b[0m \u001b[0mnashpy\u001b[0m \u001b[0;32mas\u001b[0m \u001b[0mnash\u001b[0m\u001b[0;34m\u001b[0m\u001b[0;34m\u001b[0m\u001b[0m\n\u001b[0m\u001b[1;32m      3\u001b[0m \u001b[0;34m\u001b[0m\u001b[0m\n\u001b[1;32m      4\u001b[0m \u001b[0;32mdef\u001b[0m \u001b[0mdivide_dollar_game\u001b[0m\u001b[0;34m(\u001b[0m\u001b[0mT\u001b[0m\u001b[0;34m=\u001b[0m\u001b[0;36m6\u001b[0m\u001b[0;34m,\u001b[0m \u001b[0mstep\u001b[0m\u001b[0;34m=\u001b[0m\u001b[0;36m1\u001b[0m\u001b[0;34m,\u001b[0m \u001b[0md1\u001b[0m\u001b[0;34m=\u001b[0m\u001b[0;36m0\u001b[0m\u001b[0;34m,\u001b[0m \u001b[0md2\u001b[0m\u001b[0;34m=\u001b[0m\u001b[0;36m0\u001b[0m\u001b[0;34m)\u001b[0m\u001b[0;34m:\u001b[0m \u001b[0;31m#T=total pool\u001b[0m\u001b[0;34m\u001b[0m\u001b[0;34m\u001b[0m\u001b[0m\n\u001b[1;32m      5\u001b[0m     \"\"\"\n",
            "\u001b[0;31mModuleNotFoundError\u001b[0m: No module named 'nashpy'",
            "",
            "\u001b[0;31m---------------------------------------------------------------------------\u001b[0;32m\nNOTE: If your import is failing due to a missing package, you can\nmanually install dependencies using either !pip or !apt.\n\nTo view examples of installing some common dependencies, click the\n\"Open Examples\" button below.\n\u001b[0;31m---------------------------------------------------------------------------\u001b[0m\n"
          ],
          "errorDetails": {
            "actions": [
              {
                "action": "open_url",
                "actionText": "Open Examples",
                "url": "/notebooks/snippets/importing_libraries.ipynb"
              }
            ]
          }
        }
      ]
    },
    {
      "cell_type": "code",
      "source": [
        "demands, G = divide_dollar_game(T=4, step=1)\n",
        "list(G.support_enumeration())"
      ],
      "metadata": {
        "colab": {
          "base_uri": "https://localhost:8080/"
        },
        "id": "N6lYBGSOTJlf",
        "outputId": "3af5d099-a749-419a-d82c-a7f49786424c"
      },
      "execution_count": null,
      "outputs": [
        {
          "output_type": "stream",
          "name": "stderr",
          "text": [
            "/usr/local/lib/python3.12/dist-packages/nashpy/algorithms/support_enumeration.py:260: RuntimeWarning: \n",
            "An even number of (186) equilibria was returned. This\n",
            "indicates that the game is degenerate. Consider using another algorithm\n",
            "to investigate.\n",
            "                  \n",
            "  warnings.warn(warning, RuntimeWarning)\n"
          ]
        },
        {
          "output_type": "execute_result",
          "data": {
            "text/plain": [
              "[(array([1., 0., 0., 0., 0., 0., 0., 0., 0., 0., 0.]),\n",
              "  array([0., 0., 0., 0., 0., 0., 0., 0., 0., 0., 1.])),\n",
              " (array([0., 1., 0., 0., 0., 0., 0., 0., 0., 0., 0.]),\n",
              "  array([0., 0., 0., 0., 0., 0., 0., 0., 0., 1., 0.])),\n",
              " (array([0., 0., 1., 0., 0., 0., 0., 0., 0., 0., 0.]),\n",
              "  array([0., 0., 0., 0., 0., 0., 0., 0., 1., 0., 0.]))]"
            ]
          },
          "metadata": {},
          "execution_count": 3
        }
      ]
    },
    {
      "cell_type": "code",
      "source": [
        "'''the result of the last step with a 50 total and 5 coins per step: RuntimeWarning:\n",
        "An even number of (186) equilibria was returned. This\n",
        "indicates that the game is degenerate. Consider using another algorithm\n",
        "to investigate.\n",
        "\n",
        "  warnings.warn(warning, RuntimeWarning)\n",
        "[(array([1., 0., 0., 0., 0., 0., 0., 0., 0., 0., 0.]),\n",
        "  array([0., 0., 0., 0., 0., 0., 0., 0., 0., 0., 1.])),\n",
        " (array([0., 1., 0., 0., 0., 0., 0., 0., 0., 0., 0.]),\n",
        "  array([0., 0., 0., 0., 0., 0., 0., 0., 0., 1., 0.])),\n",
        " (array([0., 0., 1., 0., 0., 0., 0., 0., 0., 0., 0.]),\n",
        "  array([0., 0., 0., 0., 0., 0., 0., 0., 1., 0., 0.]))] '''"
      ],
      "metadata": {
        "colab": {
          "base_uri": "https://localhost:8080/",
          "height": 88
        },
        "id": "sIafQjBOYRKD",
        "outputId": "b3f6ce35-a657-40c7-bd48-3f45b28eb699"
      },
      "execution_count": null,
      "outputs": [
        {
          "output_type": "execute_result",
          "data": {
            "text/plain": [
              "'the result of the last step: RuntimeWarning: \\nAn even number of (186) equilibria was returned. This\\nindicates that the game is degenerate. Consider using another algorithm\\nto investigate.\\n                  \\n  warnings.warn(warning, RuntimeWarning)\\n[(array([1., 0., 0., 0., 0., 0., 0., 0., 0., 0., 0.]),\\n  array([0., 0., 0., 0., 0., 0., 0., 0., 0., 0., 1.])),\\n (array([0., 1., 0., 0., 0., 0., 0., 0., 0., 0., 0.]),\\n  array([0., 0., 0., 0., 0., 0., 0., 0., 0., 1., 0.])),\\n (array([0., 0., 1., 0., 0., 0., 0., 0., 0., 0., 0.]),\\n  array([0., 0., 0., 0., 0., 0., 0., 0., 1., 0., 0.]))] '"
            ],
            "application/vnd.google.colaboratory.intrinsic+json": {
              "type": "string"
            }
          },
          "metadata": {},
          "execution_count": 4
        }
      ]
    },
    {
      "cell_type": "code",
      "source": [],
      "metadata": {
        "id": "oPIpxKpbYY12"
      },
      "execution_count": null,
      "outputs": []
    }
  ]
}